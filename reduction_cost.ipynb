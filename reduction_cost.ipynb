{
 "cells": [
  {
   "cell_type": "code",
   "execution_count": 12,
   "metadata": {},
   "outputs": [
    {
     "name": "stdout",
     "output_type": "stream",
     "text": [
      "21\n"
     ]
    }
   ],
   "source": [
    "list1 = [1,4,4,2]\n",
    "list2 = []\n",
    "k = len(list1)\n",
    "i = 0\n",
    "sum2 = 0\n",
    "while k>1:\n",
    "    list1.sort()\n",
    "    #print(list1)\n",
    "    \n",
    "    sum2 = list1[i] + list1[i+1]\n",
    "    #print(sum2)\n",
    "        \n",
    "    list2.append(sum2)\n",
    "    list1[i] = sum2\n",
    "    for j in range(1,k-1):\n",
    "        list1[j] = list1[j+1]\n",
    "    list1.pop()\n",
    "    k = len(list1)\n",
    "s = sum(list2)\n",
    "print(s)\n",
    "    \n",
    "    "
   ]
  },
  {
   "cell_type": "markdown",
   "metadata": {},
   "source": [
    "Reduction_cost        \n",
    " "
   ]
  },
  {
   "cell_type": "code",
   "execution_count": null,
   "metadata": {},
   "outputs": [],
   "source": []
  }
 ],
 "metadata": {
  "kernelspec": {
   "display_name": "Python 3",
   "language": "python",
   "name": "python3"
  },
  "language_info": {
   "codemirror_mode": {
    "name": "ipython",
    "version": 3
   },
   "file_extension": ".py",
   "mimetype": "text/x-python",
   "name": "python",
   "nbconvert_exporter": "python",
   "pygments_lexer": "ipython3",
   "version": "3.6.5"
  }
 },
 "nbformat": 4,
 "nbformat_minor": 2
}
